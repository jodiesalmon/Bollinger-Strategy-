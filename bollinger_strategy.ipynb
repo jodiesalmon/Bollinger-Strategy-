{
 "cells": [
  {
   "cell_type": "markdown",
   "id": "fed4cae1",
   "metadata": {},
   "source": [
    "# Bollinger Bands Strategy Backtest"
   ]
  },
  {
   "cell_type": "code",
   "execution_count": null,
   "id": "bec99a58",
   "metadata": {},
   "outputs": [],
   "source": [
    "\n",
    "import yfinance as yf\n",
    "import pandas as pd\n",
    "import numpy as np\n",
    "import matplotlib.pyplot as plt\n"
   ]
  },
  {
   "cell_type": "code",
   "execution_count": null,
   "id": "e73fdd53",
   "metadata": {},
   "outputs": [],
   "source": [
    "\n",
    "# Download stock data\n",
    "data = yf.download(\"MSFT\", start=\"2019-01-01\", end=\"2023-01-01\")\n"
   ]
  },
  {
   "cell_type": "code",
   "execution_count": null,
   "id": "f8a12d55",
   "metadata": {},
   "outputs": [],
   "source": [
    "\n",
    "# Calculate Bollinger Bands\n",
    "data['MA20'] = data['Close'].rolling(window=20).mean()\n",
    "data['STD20'] = data['Close'].rolling(window=20).std()\n",
    "data['Upper'] = data['MA20'] + (2 * data['STD20'])\n",
    "data['Lower'] = data['MA20'] - (2 * data['STD20'])\n",
    "data = data.dropna()\n"
   ]
  },
  {
   "cell_type": "code",
   "execution_count": null,
   "id": "a8cc4dc1",
   "metadata": {},
   "outputs": [],
   "source": [
    "\n",
    "# Create signal: Buy when price < Lower Band, Sell when price > Upper Band\n",
    "data['Signal'] = 0\n",
    "data.loc[data['Close'] < data['Lower'], 'Signal'] = 1  # Buy\n",
    "data.loc[data['Close'] > data['Upper'], 'Signal'] = -1  # Sell\n",
    "data['Position'] = data['Signal'].shift(1)\n"
   ]
  },
  {
   "cell_type": "code",
   "execution_count": null,
   "id": "3ec16762",
   "metadata": {},
   "outputs": [],
   "source": [
    "\n",
    "# Calculate returns\n",
    "data['Daily Return'] = data['Close'].pct_change()\n",
    "data['Strategy Return'] = data['Daily Return'] * data['Position']\n"
   ]
  },
  {
   "cell_type": "code",
   "execution_count": null,
   "id": "3e54a91d",
   "metadata": {},
   "outputs": [],
   "source": [
    "\n",
    "# Plot price and Bollinger Bands\n",
    "plt.figure(figsize=(14, 6))\n",
    "plt.plot(data['Close'], label='Price')\n",
    "plt.plot(data['MA20'], label='MA20')\n",
    "plt.plot(data['Upper'], label='Upper Band', linestyle='--')\n",
    "plt.plot(data['Lower'], label='Lower Band', linestyle='--')\n",
    "plt.title('MSFT Bollinger Bands Strategy')\n",
    "plt.xlabel('Date')\n",
    "plt.ylabel('Price')\n",
    "plt.legend()\n",
    "plt.grid(True)\n",
    "plt.show()\n"
   ]
  },
  {
   "cell_type": "code",
   "execution_count": null,
   "id": "fcf6702f",
   "metadata": {},
   "outputs": [],
   "source": [
    "\n",
    "# Plot cumulative returns\n",
    "data[['Daily Return', 'Strategy Return']].dropna().cumsum().plot(figsize=(12, 6), title='Cumulative Returns')\n",
    "plt.xlabel('Date')\n",
    "plt.ylabel('Cumulative Return')\n",
    "plt.grid(True)\n",
    "plt.show()\n"
   ]
  }
 ],
 "metadata": {},
 "nbformat": 4,
 "nbformat_minor": 5
}
